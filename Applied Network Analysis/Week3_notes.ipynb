{
 "cells": [
  {
   "cell_type": "markdown",
   "metadata": {},
   "source": [
    "# Influence Measures and Network Centralization"
   ]
  },
  {
   "cell_type": "markdown",
   "metadata": {},
   "source": [
    "Different ways to measure importance:\n",
    "- High degree of connections to other nodes\n",
    "- higher Average proximity to other nodes\n",
    "- Important nodes are those who tend to connect to other nodes in the nx --> the fraction of shortest paths that pass through a particular node\n",
    "\n",
    "\n",
    "Centrality measures identify the most important nodes in a network:\n",
    "- influential nodes in nx\n",
    "- nodes that disseminate info to many nodes or preven epidemics\n",
    "- hubs in transportation network\n",
    "- important pages on the web\n",
    "- nodes that prevent the nx from breaking up\n",
    "\n",
    "commonly used Centrality Measures:\n",
    "- **Degree centrality**\n",
    "- **Closeness centrality**\n",
    "- betweeness centrality\n",
    "- page rank\n",
    "- Katz centrality\n",
    "- percolation centrality"
   ]
  },
  {
   "cell_type": "markdown",
   "metadata": {},
   "source": [
    "## Degree Centrality\n",
    "\n",
    "assumption: important nodes have many connections \n",
    "\n",
    "basic measure --> number of neighbours\n",
    "\n",
    "\n",
    "**Undirected Nx: use degree**\n",
    "\n",
    "C(v) = dv/N-1   [goes from 0 to 1]\n",
    "\n",
    "dv: degree of node v,\n",
    "N: set of nodes\n",
    "\n",
    "**Directed Nx: use in-degree or out-degree**\n",
    "\n",
    "Cin(v) = dv_in/N-1\n",
    "\n",
    "Cout(v) = dv_out/N-1\n",
    "\n",
    "dv_in: in-degree of node v"
   ]
  },
  {
   "cell_type": "markdown",
   "metadata": {},
   "source": [
    "### In Py"
   ]
  },
  {
   "cell_type": "code",
   "execution_count": 2,
   "metadata": {
    "ExecuteTime": {
     "end_time": "2018-04-26T10:28:25.808764Z",
     "start_time": "2018-04-26T10:28:25.796701Z"
    }
   },
   "outputs": [
    {
     "data": {
      "text/plain": [
       "0.5151515151515151"
      ]
     },
     "execution_count": 2,
     "metadata": {},
     "output_type": "execute_result"
    }
   ],
   "source": [
    "#uNdirected\n",
    "import networkx as nx\n",
    "G=nx.karate_club_graph()\n",
    "G= nx.convert_node_labels_to_integers(G,first_label=1)\n",
    "degCent = nx.degree_centrality(G)\n",
    "degCent[34]"
   ]
  },
  {
   "cell_type": "raw",
   "metadata": {
    "ExecuteTime": {
     "end_time": "2018-04-26T10:30:54.009319Z",
     "start_time": "2018-04-26T10:30:53.990268Z"
    }
   },
   "source": [
    "#directed in\n",
    "\n",
    "indegCent = nx.in_degree_centrality(G)\n",
    "indegCent['A']\n",
    "\n",
    "# directed out\n",
    "indegCent = nx.out_degree_centrality(G)\n",
    "indegCent['A']"
   ]
  },
  {
   "cell_type": "markdown",
   "metadata": {},
   "source": [
    "## Closeness centrality\n",
    "\n",
    "assumption: important nodes are close to other ndoes\n",
    "\n",
    "Cclose(v) = N-1/ sum( d(u,v) )\n",
    "\n",
    "[sum over all the other nodes in nx and tdistance between node v and those nodes]\n",
    "\n"
   ]
  },
  {
   "cell_type": "code",
   "execution_count": 4,
   "metadata": {
    "ExecuteTime": {
     "end_time": "2018-04-26T10:37:07.002189Z",
     "start_time": "2018-04-26T10:37:06.996214Z"
    }
   },
   "outputs": [
    {
     "data": {
      "text/plain": [
       "0.5409836065573771"
      ]
     },
     "execution_count": 4,
     "metadata": {},
     "output_type": "execute_result"
    }
   ],
   "source": [
    "closeCent = nx.closeness_centrality(G)\n",
    "closeCent[32]"
   ]
  },
  {
   "cell_type": "code",
   "execution_count": 5,
   "metadata": {
    "ExecuteTime": {
     "end_time": "2018-04-26T10:38:17.845339Z",
     "start_time": "2018-04-26T10:38:17.841298Z"
    }
   },
   "outputs": [
    {
     "data": {
      "text/plain": [
       "61"
      ]
     },
     "execution_count": 5,
     "metadata": {},
     "output_type": "execute_result"
    }
   ],
   "source": [
    "#denominator:\n",
    "sum(nx.shortest_path_length(G,32).values())"
   ]
  },
  {
   "cell_type": "code",
   "execution_count": 7,
   "metadata": {
    "ExecuteTime": {
     "end_time": "2018-04-26T10:38:53.501493Z",
     "start_time": "2018-04-26T10:38:53.497484Z"
    }
   },
   "outputs": [
    {
     "data": {
      "text/plain": [
       "33"
      ]
     },
     "execution_count": 7,
     "metadata": {},
     "output_type": "execute_result"
    }
   ],
   "source": [
    "#nominator\n",
    "len(G.nodes())-1"
   ]
  },
  {
   "cell_type": "markdown",
   "metadata": {},
   "source": [
    "What about disconnected nodes??\n",
    "\n",
    "- consider only nodes that L can reach, not so good\n",
    "\n",
    "- consider only nodes that L can reach and **normalize by the fraction of nodes L can reach**"
   ]
  },
  {
   "cell_type": "code",
   "execution_count": 8,
   "metadata": {
    "ExecuteTime": {
     "end_time": "2018-04-26T10:43:19.972266Z",
     "start_time": "2018-04-26T10:43:19.968257Z"
    }
   },
   "outputs": [],
   "source": [
    "closeCent = nx.closeness_centrality(G, normalized=True)"
   ]
  },
  {
   "cell_type": "markdown",
   "metadata": {},
   "source": [
    "## Betweenness\n",
    "\n",
    "assumption: important nodes connect other nodes\n",
    "\n",
    "?What are the nodes that show up in the shortest path between 2 different nodes?\n",
    "\n",
    "method for node V: Take nodes S T and find all the shortedst between nodes S and T (Sigma s,t ) -> number of shortest paths. Then look at how many of those shortest paths contains node V\n",
    "\n",
    "Normalization: values will be larer in graphs with manz nodes. to ontrol fo this we divide centrality values by the number of pairs of nodes in graph( ecxluding v) \n",
    "\n",
    "0.5*(N-1)(N-2) for **undirected**\n",
    "    \n",
    "   (N-1)(N-2) for **directed**\n",
    "    "
   ]
  },
  {
   "cell_type": "code",
   "execution_count": 11,
   "metadata": {
    "ExecuteTime": {
     "end_time": "2018-04-26T11:00:50.880891Z",
     "start_time": "2018-04-26T11:00:50.873410Z"
    }
   },
   "outputs": [
    {
     "data": {
      "text/plain": [
       "[(1, 0.4376352813852815),\n",
       " (34, 0.30407497594997596),\n",
       " (33, 0.14524711399711404),\n",
       " (3, 0.14365680615680615),\n",
       " (32, 0.13827561327561327)]"
      ]
     },
     "execution_count": 11,
     "metadata": {},
     "output_type": "execute_result"
    }
   ],
   "source": [
    "btwnCent = nx.betweenness_centrality(G, normalized=True, endpoints=False)\n",
    "\n",
    "import operator\n",
    "sorted(btwnCent.items(), key=operator.itemgetter(1), reverse=True)[0:5]\n"
   ]
  },
  {
   "cell_type": "markdown",
   "metadata": {},
   "source": [
    "Computation time is expensive for btwn centrality, it takes up to N^3\n",
    "\n",
    "we can do an aproximation of centrlaity using only a random subset of nodes\n",
    "\n",
    "or we can use a specified subset of Source and Target nodes to compute it, using nx.betweenness_centrality_subset()"
   ]
  },
  {
   "cell_type": "code",
   "execution_count": 13,
   "metadata": {
    "ExecuteTime": {
     "end_time": "2018-04-26T11:03:26.826236Z",
     "start_time": "2018-04-26T11:03:26.820221Z"
    }
   },
   "outputs": [
    {
     "data": {
      "text/plain": [
       "[(1, 0.4376352813852815),\n",
       " (34, 0.30407497594997596),\n",
       " (33, 0.14524711399711404),\n",
       " (3, 0.14365680615680615),\n",
       " (32, 0.13827561327561327)]"
      ]
     },
     "execution_count": 13,
     "metadata": {},
     "output_type": "execute_result"
    }
   ],
   "source": [
    "btwnCent_aprox = nx.betweenness_centrality(G, normalized=True, endpoints=False, k=10)\n",
    "sorted(btwnCent.items(), key=operator.itemgetter(1), reverse=True)[0:5]\n"
   ]
  },
  {
   "cell_type": "markdown",
   "metadata": {},
   "source": [
    "for Edges it is quite the same"
   ]
  },
  {
   "cell_type": "code",
   "execution_count": 15,
   "metadata": {
    "ExecuteTime": {
     "end_time": "2018-04-26T11:07:04.874112Z",
     "start_time": "2018-04-26T11:07:04.867092Z"
    },
    "scrolled": true
   },
   "outputs": [
    {
     "data": {
      "text/plain": [
       "[((1, 32), 0.12725999490705373),\n",
       " ((1, 7), 0.07813428401663695),\n",
       " ((1, 6), 0.07813428401663694),\n",
       " ((1, 3), 0.07778768072885717),\n",
       " ((1, 9), 0.07423959482783016)]"
      ]
     },
     "execution_count": 15,
     "metadata": {},
     "output_type": "execute_result"
    }
   ],
   "source": [
    "btwnCent_edges = nx.edge_betweenness_centrality(G, normalized=True)\n",
    "sorted(btwnCent_edges.items(), key=operator.itemgetter(1), reverse=True)[0:5]\n"
   ]
  },
  {
   "cell_type": "markdown",
   "metadata": {},
   "source": [
    "## Basic Page Rank"
   ]
  },
  {
   "cell_type": "markdown",
   "metadata": {},
   "source": [
    "Assigns a score of importance to each node, important nodes are those with many in-links from important pages.\n",
    "\n",
    "Mostly used for directed nx"
   ]
  },
  {
   "cell_type": "markdown",
   "metadata": {},
   "source": [
    "n: # nodess in Nx\n",
    "k: # of steps\n",
    "\n",
    "1) assign all nodes PR of 1/n\n",
    "2) Perform basic PR update rule k times ( each node gives an equal share of its current PR to all the nodes it links to )\n",
    "3) new PR of each node is sum of all the pR it received from other nodes\n",
    "\n",
    "PR values will mostly converge as k gets larger"
   ]
  },
  {
   "cell_type": "markdown",
   "metadata": {},
   "source": [
    "### Interpreting PR\n",
    "\n",
    "The pR of a node at step k is the probability that a random walker lands on the node adter taking k steps"
   ]
  },
  {
   "cell_type": "markdown",
   "metadata": {},
   "source": [
    "## Hubs and Authorities"
   ]
  },
  {
   "cell_type": "markdown",
   "metadata": {},
   "source": [
    "Given a query to a search engine:\n",
    "\n",
    "- Root: set of highly relevant web pages (pages that contain the query string) - potential *authorities*\n",
    "- find all pages that link to a page in root - potential *hubs*\n",
    "- Base: root nodes and nay node that links to a node in root\n",
    "- consider all edges connecting nodes in the base set\n",
    "\n",
    "Difference from PR i: here we start with a small subset of  the Nx: look fro pages that are relevant and those that connect to it"
   ]
  },
  {
   "cell_type": "markdown",
   "metadata": {},
   "source": [
    "next step: run HITS algo\n",
    "\n",
    "- computing k iteration of the HITS algo to assign an authoity score and hub score to each node\n",
    "\n",
    "1) assign each node an authority and hub score of 1\n",
    "\n",
    "2) apply the Authority Update Rule: each nodes auth score is the sum of hub scores of each node that **points to it**\n",
    "\n",
    "3) apply Hub Update Rule: each nodes hub score is the sum of auth scores of each node that **it points to**\n",
    "\n",
    "4) Normalize auth and hubs scores"
   ]
  },
  {
   "cell_type": "raw",
   "metadata": {},
   "source": [
    "# in python\n",
    "nx.hits(G)"
   ]
  },
  {
   "cell_type": "markdown",
   "metadata": {},
   "source": [
    "# quiz\n"
   ]
  },
  {
   "cell_type": "code",
   "execution_count": 16,
   "metadata": {
    "ExecuteTime": {
     "end_time": "2018-04-26T12:07:55.543632Z",
     "start_time": "2018-04-26T12:07:53.354508Z"
    }
   },
   "outputs": [],
   "source": [
    "\n",
    "%matplotlib notebook\n",
    "\n",
    "import networkx as nx\n",
    "import matplotlib.pyplot as plt\n",
    "G = nx.Graph()\n",
    "G.add_edges_from([('A', 'B'), ('A', 'C'), ('B', 'D'), ('C', 'D'), ('C', 'E'), ('E', 'D'), ('D', 'G'), ('E', 'G'), ('G', 'F')])"
   ]
  },
  {
   "cell_type": "code",
   "execution_count": 17,
   "metadata": {
    "ExecuteTime": {
     "end_time": "2018-04-26T12:08:36.985517Z",
     "start_time": "2018-04-26T12:08:36.977034Z"
    }
   },
   "outputs": [
    {
     "data": {
      "text/plain": [
       "0.6"
      ]
     },
     "execution_count": 17,
     "metadata": {},
     "output_type": "execute_result"
    }
   ],
   "source": [
    "clo_C=nx.closeness_centrality(G)\n",
    "clo_C['G']"
   ]
  },
  {
   "cell_type": "code",
   "execution_count": 19,
   "metadata": {
    "ExecuteTime": {
     "end_time": "2018-04-26T12:09:28.099347Z",
     "start_time": "2018-04-26T12:09:28.090354Z"
    }
   },
   "outputs": [
    {
     "data": {
      "text/plain": [
       "0.3333333333333333"
      ]
     },
     "execution_count": 19,
     "metadata": {},
     "output_type": "execute_result"
    }
   ],
   "source": [
    "btwn = nx.betweenness_centrality(G,normalized=True, endpoints=False)\n",
    "btwn[\"G\"]"
   ]
  },
  {
   "cell_type": "code",
   "execution_count": 21,
   "metadata": {
    "ExecuteTime": {
     "end_time": "2018-04-26T12:10:52.850003Z",
     "start_time": "2018-04-26T12:10:52.841947Z"
    }
   },
   "outputs": [
    {
     "data": {
      "text/plain": [
       "6.0"
      ]
     },
     "execution_count": 21,
     "metadata": {},
     "output_type": "execute_result"
    }
   ],
   "source": [
    "btwn=nx.edge_betweenness_centrality(G,normalized=False)\n",
    "btwn[\"G\",\"F\"]"
   ]
  },
  {
   "cell_type": "code",
   "execution_count": 23,
   "metadata": {
    "ExecuteTime": {
     "end_time": "2018-04-26T12:19:07.984446Z",
     "start_time": "2018-04-26T12:19:07.977893Z"
    }
   },
   "outputs": [],
   "source": [
    "# PR\n",
    "G = nx.DiGraph()\n",
    "G.add_edges_from([(\"A\",\"B\"),(\"A\",\"C\"),(\"B\",\"A\"),(\"C\",\"D\"),(\"D\",\"C\")])"
   ]
  },
  {
   "cell_type": "code",
   "execution_count": 25,
   "metadata": {
    "ExecuteTime": {
     "end_time": "2018-04-26T12:19:22.071790Z",
     "start_time": "2018-04-26T12:19:21.885177Z"
    }
   },
   "outputs": [
    {
     "data": {
      "application/javascript": [
       "/* Put everything inside the global mpl namespace */\n",
       "window.mpl = {};\n",
       "\n",
       "\n",
       "mpl.get_websocket_type = function() {\n",
       "    if (typeof(WebSocket) !== 'undefined') {\n",
       "        return WebSocket;\n",
       "    } else if (typeof(MozWebSocket) !== 'undefined') {\n",
       "        return MozWebSocket;\n",
       "    } else {\n",
       "        alert('Your browser does not have WebSocket support.' +\n",
       "              'Please try Chrome, Safari or Firefox ≥ 6. ' +\n",
       "              'Firefox 4 and 5 are also supported but you ' +\n",
       "              'have to enable WebSockets in about:config.');\n",
       "    };\n",
       "}\n",
       "\n",
       "mpl.figure = function(figure_id, websocket, ondownload, parent_element) {\n",
       "    this.id = figure_id;\n",
       "\n",
       "    this.ws = websocket;\n",
       "\n",
       "    this.supports_binary = (this.ws.binaryType != undefined);\n",
       "\n",
       "    if (!this.supports_binary) {\n",
       "        var warnings = document.getElementById(\"mpl-warnings\");\n",
       "        if (warnings) {\n",
       "            warnings.style.display = 'block';\n",
       "            warnings.textContent = (\n",
       "                \"This browser does not support binary websocket messages. \" +\n",
       "                    \"Performance may be slow.\");\n",
       "        }\n",
       "    }\n",
       "\n",
       "    this.imageObj = new Image();\n",
       "\n",
       "    this.context = undefined;\n",
       "    this.message = undefined;\n",
       "    this.canvas = undefined;\n",
       "    this.rubberband_canvas = undefined;\n",
       "    this.rubberband_context = undefined;\n",
       "    this.format_dropdown = undefined;\n",
       "\n",
       "    this.image_mode = 'full';\n",
       "\n",
       "    this.root = $('<div/>');\n",
       "    this._root_extra_style(this.root)\n",
       "    this.root.attr('style', 'display: inline-block');\n",
       "\n",
       "    $(parent_element).append(this.root);\n",
       "\n",
       "    this._init_header(this);\n",
       "    this._init_canvas(this);\n",
       "    this._init_toolbar(this);\n",
       "\n",
       "    var fig = this;\n",
       "\n",
       "    this.waiting = false;\n",
       "\n",
       "    this.ws.onopen =  function () {\n",
       "            fig.send_message(\"supports_binary\", {value: fig.supports_binary});\n",
       "            fig.send_message(\"send_image_mode\", {});\n",
       "            if (mpl.ratio != 1) {\n",
       "                fig.send_message(\"set_dpi_ratio\", {'dpi_ratio': mpl.ratio});\n",
       "            }\n",
       "            fig.send_message(\"refresh\", {});\n",
       "        }\n",
       "\n",
       "    this.imageObj.onload = function() {\n",
       "            if (fig.image_mode == 'full') {\n",
       "                // Full images could contain transparency (where diff images\n",
       "                // almost always do), so we need to clear the canvas so that\n",
       "                // there is no ghosting.\n",
       "                fig.context.clearRect(0, 0, fig.canvas.width, fig.canvas.height);\n",
       "            }\n",
       "            fig.context.drawImage(fig.imageObj, 0, 0);\n",
       "        };\n",
       "\n",
       "    this.imageObj.onunload = function() {\n",
       "        fig.ws.close();\n",
       "    }\n",
       "\n",
       "    this.ws.onmessage = this._make_on_message_function(this);\n",
       "\n",
       "    this.ondownload = ondownload;\n",
       "}\n",
       "\n",
       "mpl.figure.prototype._init_header = function() {\n",
       "    var titlebar = $(\n",
       "        '<div class=\"ui-dialog-titlebar ui-widget-header ui-corner-all ' +\n",
       "        'ui-helper-clearfix\"/>');\n",
       "    var titletext = $(\n",
       "        '<div class=\"ui-dialog-title\" style=\"width: 100%; ' +\n",
       "        'text-align: center; padding: 3px;\"/>');\n",
       "    titlebar.append(titletext)\n",
       "    this.root.append(titlebar);\n",
       "    this.header = titletext[0];\n",
       "}\n",
       "\n",
       "\n",
       "\n",
       "mpl.figure.prototype._canvas_extra_style = function(canvas_div) {\n",
       "\n",
       "}\n",
       "\n",
       "\n",
       "mpl.figure.prototype._root_extra_style = function(canvas_div) {\n",
       "\n",
       "}\n",
       "\n",
       "mpl.figure.prototype._init_canvas = function() {\n",
       "    var fig = this;\n",
       "\n",
       "    var canvas_div = $('<div/>');\n",
       "\n",
       "    canvas_div.attr('style', 'position: relative; clear: both; outline: 0');\n",
       "\n",
       "    function canvas_keyboard_event(event) {\n",
       "        return fig.key_event(event, event['data']);\n",
       "    }\n",
       "\n",
       "    canvas_div.keydown('key_press', canvas_keyboard_event);\n",
       "    canvas_div.keyup('key_release', canvas_keyboard_event);\n",
       "    this.canvas_div = canvas_div\n",
       "    this._canvas_extra_style(canvas_div)\n",
       "    this.root.append(canvas_div);\n",
       "\n",
       "    var canvas = $('<canvas/>');\n",
       "    canvas.addClass('mpl-canvas');\n",
       "    canvas.attr('style', \"left: 0; top: 0; z-index: 0; outline: 0\")\n",
       "\n",
       "    this.canvas = canvas[0];\n",
       "    this.context = canvas[0].getContext(\"2d\");\n",
       "\n",
       "    var backingStore = this.context.backingStorePixelRatio ||\n",
       "\tthis.context.webkitBackingStorePixelRatio ||\n",
       "\tthis.context.mozBackingStorePixelRatio ||\n",
       "\tthis.context.msBackingStorePixelRatio ||\n",
       "\tthis.context.oBackingStorePixelRatio ||\n",
       "\tthis.context.backingStorePixelRatio || 1;\n",
       "\n",
       "    mpl.ratio = (window.devicePixelRatio || 1) / backingStore;\n",
       "\n",
       "    var rubberband = $('<canvas/>');\n",
       "    rubberband.attr('style', \"position: absolute; left: 0; top: 0; z-index: 1;\")\n",
       "\n",
       "    var pass_mouse_events = true;\n",
       "\n",
       "    canvas_div.resizable({\n",
       "        start: function(event, ui) {\n",
       "            pass_mouse_events = false;\n",
       "        },\n",
       "        resize: function(event, ui) {\n",
       "            fig.request_resize(ui.size.width, ui.size.height);\n",
       "        },\n",
       "        stop: function(event, ui) {\n",
       "            pass_mouse_events = true;\n",
       "            fig.request_resize(ui.size.width, ui.size.height);\n",
       "        },\n",
       "    });\n",
       "\n",
       "    function mouse_event_fn(event) {\n",
       "        if (pass_mouse_events)\n",
       "            return fig.mouse_event(event, event['data']);\n",
       "    }\n",
       "\n",
       "    rubberband.mousedown('button_press', mouse_event_fn);\n",
       "    rubberband.mouseup('button_release', mouse_event_fn);\n",
       "    // Throttle sequential mouse events to 1 every 20ms.\n",
       "    rubberband.mousemove('motion_notify', mouse_event_fn);\n",
       "\n",
       "    rubberband.mouseenter('figure_enter', mouse_event_fn);\n",
       "    rubberband.mouseleave('figure_leave', mouse_event_fn);\n",
       "\n",
       "    canvas_div.on(\"wheel\", function (event) {\n",
       "        event = event.originalEvent;\n",
       "        event['data'] = 'scroll'\n",
       "        if (event.deltaY < 0) {\n",
       "            event.step = 1;\n",
       "        } else {\n",
       "            event.step = -1;\n",
       "        }\n",
       "        mouse_event_fn(event);\n",
       "    });\n",
       "\n",
       "    canvas_div.append(canvas);\n",
       "    canvas_div.append(rubberband);\n",
       "\n",
       "    this.rubberband = rubberband;\n",
       "    this.rubberband_canvas = rubberband[0];\n",
       "    this.rubberband_context = rubberband[0].getContext(\"2d\");\n",
       "    this.rubberband_context.strokeStyle = \"#000000\";\n",
       "\n",
       "    this._resize_canvas = function(width, height) {\n",
       "        // Keep the size of the canvas, canvas container, and rubber band\n",
       "        // canvas in synch.\n",
       "        canvas_div.css('width', width)\n",
       "        canvas_div.css('height', height)\n",
       "\n",
       "        canvas.attr('width', width * mpl.ratio);\n",
       "        canvas.attr('height', height * mpl.ratio);\n",
       "        canvas.attr('style', 'width: ' + width + 'px; height: ' + height + 'px;');\n",
       "\n",
       "        rubberband.attr('width', width);\n",
       "        rubberband.attr('height', height);\n",
       "    }\n",
       "\n",
       "    // Set the figure to an initial 600x600px, this will subsequently be updated\n",
       "    // upon first draw.\n",
       "    this._resize_canvas(600, 600);\n",
       "\n",
       "    // Disable right mouse context menu.\n",
       "    $(this.rubberband_canvas).bind(\"contextmenu\",function(e){\n",
       "        return false;\n",
       "    });\n",
       "\n",
       "    function set_focus () {\n",
       "        canvas.focus();\n",
       "        canvas_div.focus();\n",
       "    }\n",
       "\n",
       "    window.setTimeout(set_focus, 100);\n",
       "}\n",
       "\n",
       "mpl.figure.prototype._init_toolbar = function() {\n",
       "    var fig = this;\n",
       "\n",
       "    var nav_element = $('<div/>')\n",
       "    nav_element.attr('style', 'width: 100%');\n",
       "    this.root.append(nav_element);\n",
       "\n",
       "    // Define a callback function for later on.\n",
       "    function toolbar_event(event) {\n",
       "        return fig.toolbar_button_onclick(event['data']);\n",
       "    }\n",
       "    function toolbar_mouse_event(event) {\n",
       "        return fig.toolbar_button_onmouseover(event['data']);\n",
       "    }\n",
       "\n",
       "    for(var toolbar_ind in mpl.toolbar_items) {\n",
       "        var name = mpl.toolbar_items[toolbar_ind][0];\n",
       "        var tooltip = mpl.toolbar_items[toolbar_ind][1];\n",
       "        var image = mpl.toolbar_items[toolbar_ind][2];\n",
       "        var method_name = mpl.toolbar_items[toolbar_ind][3];\n",
       "\n",
       "        if (!name) {\n",
       "            // put a spacer in here.\n",
       "            continue;\n",
       "        }\n",
       "        var button = $('<button/>');\n",
       "        button.addClass('ui-button ui-widget ui-state-default ui-corner-all ' +\n",
       "                        'ui-button-icon-only');\n",
       "        button.attr('role', 'button');\n",
       "        button.attr('aria-disabled', 'false');\n",
       "        button.click(method_name, toolbar_event);\n",
       "        button.mouseover(tooltip, toolbar_mouse_event);\n",
       "\n",
       "        var icon_img = $('<span/>');\n",
       "        icon_img.addClass('ui-button-icon-primary ui-icon');\n",
       "        icon_img.addClass(image);\n",
       "        icon_img.addClass('ui-corner-all');\n",
       "\n",
       "        var tooltip_span = $('<span/>');\n",
       "        tooltip_span.addClass('ui-button-text');\n",
       "        tooltip_span.html(tooltip);\n",
       "\n",
       "        button.append(icon_img);\n",
       "        button.append(tooltip_span);\n",
       "\n",
       "        nav_element.append(button);\n",
       "    }\n",
       "\n",
       "    var fmt_picker_span = $('<span/>');\n",
       "\n",
       "    var fmt_picker = $('<select/>');\n",
       "    fmt_picker.addClass('mpl-toolbar-option ui-widget ui-widget-content');\n",
       "    fmt_picker_span.append(fmt_picker);\n",
       "    nav_element.append(fmt_picker_span);\n",
       "    this.format_dropdown = fmt_picker[0];\n",
       "\n",
       "    for (var ind in mpl.extensions) {\n",
       "        var fmt = mpl.extensions[ind];\n",
       "        var option = $(\n",
       "            '<option/>', {selected: fmt === mpl.default_extension}).html(fmt);\n",
       "        fmt_picker.append(option)\n",
       "    }\n",
       "\n",
       "    // Add hover states to the ui-buttons\n",
       "    $( \".ui-button\" ).hover(\n",
       "        function() { $(this).addClass(\"ui-state-hover\");},\n",
       "        function() { $(this).removeClass(\"ui-state-hover\");}\n",
       "    );\n",
       "\n",
       "    var status_bar = $('<span class=\"mpl-message\"/>');\n",
       "    nav_element.append(status_bar);\n",
       "    this.message = status_bar[0];\n",
       "}\n",
       "\n",
       "mpl.figure.prototype.request_resize = function(x_pixels, y_pixels) {\n",
       "    // Request matplotlib to resize the figure. Matplotlib will then trigger a resize in the client,\n",
       "    // which will in turn request a refresh of the image.\n",
       "    this.send_message('resize', {'width': x_pixels, 'height': y_pixels});\n",
       "}\n",
       "\n",
       "mpl.figure.prototype.send_message = function(type, properties) {\n",
       "    properties['type'] = type;\n",
       "    properties['figure_id'] = this.id;\n",
       "    this.ws.send(JSON.stringify(properties));\n",
       "}\n",
       "\n",
       "mpl.figure.prototype.send_draw_message = function() {\n",
       "    if (!this.waiting) {\n",
       "        this.waiting = true;\n",
       "        this.ws.send(JSON.stringify({type: \"draw\", figure_id: this.id}));\n",
       "    }\n",
       "}\n",
       "\n",
       "\n",
       "mpl.figure.prototype.handle_save = function(fig, msg) {\n",
       "    var format_dropdown = fig.format_dropdown;\n",
       "    var format = format_dropdown.options[format_dropdown.selectedIndex].value;\n",
       "    fig.ondownload(fig, format);\n",
       "}\n",
       "\n",
       "\n",
       "mpl.figure.prototype.handle_resize = function(fig, msg) {\n",
       "    var size = msg['size'];\n",
       "    if (size[0] != fig.canvas.width || size[1] != fig.canvas.height) {\n",
       "        fig._resize_canvas(size[0], size[1]);\n",
       "        fig.send_message(\"refresh\", {});\n",
       "    };\n",
       "}\n",
       "\n",
       "mpl.figure.prototype.handle_rubberband = function(fig, msg) {\n",
       "    var x0 = msg['x0'] / mpl.ratio;\n",
       "    var y0 = (fig.canvas.height - msg['y0']) / mpl.ratio;\n",
       "    var x1 = msg['x1'] / mpl.ratio;\n",
       "    var y1 = (fig.canvas.height - msg['y1']) / mpl.ratio;\n",
       "    x0 = Math.floor(x0) + 0.5;\n",
       "    y0 = Math.floor(y0) + 0.5;\n",
       "    x1 = Math.floor(x1) + 0.5;\n",
       "    y1 = Math.floor(y1) + 0.5;\n",
       "    var min_x = Math.min(x0, x1);\n",
       "    var min_y = Math.min(y0, y1);\n",
       "    var width = Math.abs(x1 - x0);\n",
       "    var height = Math.abs(y1 - y0);\n",
       "\n",
       "    fig.rubberband_context.clearRect(\n",
       "        0, 0, fig.canvas.width, fig.canvas.height);\n",
       "\n",
       "    fig.rubberband_context.strokeRect(min_x, min_y, width, height);\n",
       "}\n",
       "\n",
       "mpl.figure.prototype.handle_figure_label = function(fig, msg) {\n",
       "    // Updates the figure title.\n",
       "    fig.header.textContent = msg['label'];\n",
       "}\n",
       "\n",
       "mpl.figure.prototype.handle_cursor = function(fig, msg) {\n",
       "    var cursor = msg['cursor'];\n",
       "    switch(cursor)\n",
       "    {\n",
       "    case 0:\n",
       "        cursor = 'pointer';\n",
       "        break;\n",
       "    case 1:\n",
       "        cursor = 'default';\n",
       "        break;\n",
       "    case 2:\n",
       "        cursor = 'crosshair';\n",
       "        break;\n",
       "    case 3:\n",
       "        cursor = 'move';\n",
       "        break;\n",
       "    }\n",
       "    fig.rubberband_canvas.style.cursor = cursor;\n",
       "}\n",
       "\n",
       "mpl.figure.prototype.handle_message = function(fig, msg) {\n",
       "    fig.message.textContent = msg['message'];\n",
       "}\n",
       "\n",
       "mpl.figure.prototype.handle_draw = function(fig, msg) {\n",
       "    // Request the server to send over a new figure.\n",
       "    fig.send_draw_message();\n",
       "}\n",
       "\n",
       "mpl.figure.prototype.handle_image_mode = function(fig, msg) {\n",
       "    fig.image_mode = msg['mode'];\n",
       "}\n",
       "\n",
       "mpl.figure.prototype.updated_canvas_event = function() {\n",
       "    // Called whenever the canvas gets updated.\n",
       "    this.send_message(\"ack\", {});\n",
       "}\n",
       "\n",
       "// A function to construct a web socket function for onmessage handling.\n",
       "// Called in the figure constructor.\n",
       "mpl.figure.prototype._make_on_message_function = function(fig) {\n",
       "    return function socket_on_message(evt) {\n",
       "        if (evt.data instanceof Blob) {\n",
       "            /* FIXME: We get \"Resource interpreted as Image but\n",
       "             * transferred with MIME type text/plain:\" errors on\n",
       "             * Chrome.  But how to set the MIME type?  It doesn't seem\n",
       "             * to be part of the websocket stream */\n",
       "            evt.data.type = \"image/png\";\n",
       "\n",
       "            /* Free the memory for the previous frames */\n",
       "            if (fig.imageObj.src) {\n",
       "                (window.URL || window.webkitURL).revokeObjectURL(\n",
       "                    fig.imageObj.src);\n",
       "            }\n",
       "\n",
       "            fig.imageObj.src = (window.URL || window.webkitURL).createObjectURL(\n",
       "                evt.data);\n",
       "            fig.updated_canvas_event();\n",
       "            fig.waiting = false;\n",
       "            return;\n",
       "        }\n",
       "        else if (typeof evt.data === 'string' && evt.data.slice(0, 21) == \"data:image/png;base64\") {\n",
       "            fig.imageObj.src = evt.data;\n",
       "            fig.updated_canvas_event();\n",
       "            fig.waiting = false;\n",
       "            return;\n",
       "        }\n",
       "\n",
       "        var msg = JSON.parse(evt.data);\n",
       "        var msg_type = msg['type'];\n",
       "\n",
       "        // Call the  \"handle_{type}\" callback, which takes\n",
       "        // the figure and JSON message as its only arguments.\n",
       "        try {\n",
       "            var callback = fig[\"handle_\" + msg_type];\n",
       "        } catch (e) {\n",
       "            console.log(\"No handler for the '\" + msg_type + \"' message type: \", msg);\n",
       "            return;\n",
       "        }\n",
       "\n",
       "        if (callback) {\n",
       "            try {\n",
       "                // console.log(\"Handling '\" + msg_type + \"' message: \", msg);\n",
       "                callback(fig, msg);\n",
       "            } catch (e) {\n",
       "                console.log(\"Exception inside the 'handler_\" + msg_type + \"' callback:\", e, e.stack, msg);\n",
       "            }\n",
       "        }\n",
       "    };\n",
       "}\n",
       "\n",
       "// from http://stackoverflow.com/questions/1114465/getting-mouse-location-in-canvas\n",
       "mpl.findpos = function(e) {\n",
       "    //this section is from http://www.quirksmode.org/js/events_properties.html\n",
       "    var targ;\n",
       "    if (!e)\n",
       "        e = window.event;\n",
       "    if (e.target)\n",
       "        targ = e.target;\n",
       "    else if (e.srcElement)\n",
       "        targ = e.srcElement;\n",
       "    if (targ.nodeType == 3) // defeat Safari bug\n",
       "        targ = targ.parentNode;\n",
       "\n",
       "    // jQuery normalizes the pageX and pageY\n",
       "    // pageX,Y are the mouse positions relative to the document\n",
       "    // offset() returns the position of the element relative to the document\n",
       "    var x = e.pageX - $(targ).offset().left;\n",
       "    var y = e.pageY - $(targ).offset().top;\n",
       "\n",
       "    return {\"x\": x, \"y\": y};\n",
       "};\n",
       "\n",
       "/*\n",
       " * return a copy of an object with only non-object keys\n",
       " * we need this to avoid circular references\n",
       " * http://stackoverflow.com/a/24161582/3208463\n",
       " */\n",
       "function simpleKeys (original) {\n",
       "  return Object.keys(original).reduce(function (obj, key) {\n",
       "    if (typeof original[key] !== 'object')\n",
       "        obj[key] = original[key]\n",
       "    return obj;\n",
       "  }, {});\n",
       "}\n",
       "\n",
       "mpl.figure.prototype.mouse_event = function(event, name) {\n",
       "    var canvas_pos = mpl.findpos(event)\n",
       "\n",
       "    if (name === 'button_press')\n",
       "    {\n",
       "        this.canvas.focus();\n",
       "        this.canvas_div.focus();\n",
       "    }\n",
       "\n",
       "    var x = canvas_pos.x * mpl.ratio;\n",
       "    var y = canvas_pos.y * mpl.ratio;\n",
       "\n",
       "    this.send_message(name, {x: x, y: y, button: event.button,\n",
       "                             step: event.step,\n",
       "                             guiEvent: simpleKeys(event)});\n",
       "\n",
       "    /* This prevents the web browser from automatically changing to\n",
       "     * the text insertion cursor when the button is pressed.  We want\n",
       "     * to control all of the cursor setting manually through the\n",
       "     * 'cursor' event from matplotlib */\n",
       "    event.preventDefault();\n",
       "    return false;\n",
       "}\n",
       "\n",
       "mpl.figure.prototype._key_event_extra = function(event, name) {\n",
       "    // Handle any extra behaviour associated with a key event\n",
       "}\n",
       "\n",
       "mpl.figure.prototype.key_event = function(event, name) {\n",
       "\n",
       "    // Prevent repeat events\n",
       "    if (name == 'key_press')\n",
       "    {\n",
       "        if (event.which === this._key)\n",
       "            return;\n",
       "        else\n",
       "            this._key = event.which;\n",
       "    }\n",
       "    if (name == 'key_release')\n",
       "        this._key = null;\n",
       "\n",
       "    var value = '';\n",
       "    if (event.ctrlKey && event.which != 17)\n",
       "        value += \"ctrl+\";\n",
       "    if (event.altKey && event.which != 18)\n",
       "        value += \"alt+\";\n",
       "    if (event.shiftKey && event.which != 16)\n",
       "        value += \"shift+\";\n",
       "\n",
       "    value += 'k';\n",
       "    value += event.which.toString();\n",
       "\n",
       "    this._key_event_extra(event, name);\n",
       "\n",
       "    this.send_message(name, {key: value,\n",
       "                             guiEvent: simpleKeys(event)});\n",
       "    return false;\n",
       "}\n",
       "\n",
       "mpl.figure.prototype.toolbar_button_onclick = function(name) {\n",
       "    if (name == 'download') {\n",
       "        this.handle_save(this, null);\n",
       "    } else {\n",
       "        this.send_message(\"toolbar_button\", {name: name});\n",
       "    }\n",
       "};\n",
       "\n",
       "mpl.figure.prototype.toolbar_button_onmouseover = function(tooltip) {\n",
       "    this.message.textContent = tooltip;\n",
       "};\n",
       "mpl.toolbar_items = [[\"Home\", \"Reset original view\", \"fa fa-home icon-home\", \"home\"], [\"Back\", \"Back to  previous view\", \"fa fa-arrow-left icon-arrow-left\", \"back\"], [\"Forward\", \"Forward to next view\", \"fa fa-arrow-right icon-arrow-right\", \"forward\"], [\"\", \"\", \"\", \"\"], [\"Pan\", \"Pan axes with left mouse, zoom with right\", \"fa fa-arrows icon-move\", \"pan\"], [\"Zoom\", \"Zoom to rectangle\", \"fa fa-square-o icon-check-empty\", \"zoom\"], [\"\", \"\", \"\", \"\"], [\"Download\", \"Download plot\", \"fa fa-floppy-o icon-save\", \"download\"]];\n",
       "\n",
       "mpl.extensions = [\"eps\", \"jpeg\", \"pdf\", \"png\", \"ps\", \"raw\", \"svg\", \"tif\"];\n",
       "\n",
       "mpl.default_extension = \"png\";var comm_websocket_adapter = function(comm) {\n",
       "    // Create a \"websocket\"-like object which calls the given IPython comm\n",
       "    // object with the appropriate methods. Currently this is a non binary\n",
       "    // socket, so there is still some room for performance tuning.\n",
       "    var ws = {};\n",
       "\n",
       "    ws.close = function() {\n",
       "        comm.close()\n",
       "    };\n",
       "    ws.send = function(m) {\n",
       "        //console.log('sending', m);\n",
       "        comm.send(m);\n",
       "    };\n",
       "    // Register the callback with on_msg.\n",
       "    comm.on_msg(function(msg) {\n",
       "        //console.log('receiving', msg['content']['data'], msg);\n",
       "        // Pass the mpl event to the overriden (by mpl) onmessage function.\n",
       "        ws.onmessage(msg['content']['data'])\n",
       "    });\n",
       "    return ws;\n",
       "}\n",
       "\n",
       "mpl.mpl_figure_comm = function(comm, msg) {\n",
       "    // This is the function which gets called when the mpl process\n",
       "    // starts-up an IPython Comm through the \"matplotlib\" channel.\n",
       "\n",
       "    var id = msg.content.data.id;\n",
       "    // Get hold of the div created by the display call when the Comm\n",
       "    // socket was opened in Python.\n",
       "    var element = $(\"#\" + id);\n",
       "    var ws_proxy = comm_websocket_adapter(comm)\n",
       "\n",
       "    function ondownload(figure, format) {\n",
       "        window.open(figure.imageObj.src);\n",
       "    }\n",
       "\n",
       "    var fig = new mpl.figure(id, ws_proxy,\n",
       "                           ondownload,\n",
       "                           element.get(0));\n",
       "\n",
       "    // Call onopen now - mpl needs it, as it is assuming we've passed it a real\n",
       "    // web socket which is closed, not our websocket->open comm proxy.\n",
       "    ws_proxy.onopen();\n",
       "\n",
       "    fig.parent_element = element.get(0);\n",
       "    fig.cell_info = mpl.find_output_cell(\"<div id='\" + id + \"'></div>\");\n",
       "    if (!fig.cell_info) {\n",
       "        console.error(\"Failed to find cell for figure\", id, fig);\n",
       "        return;\n",
       "    }\n",
       "\n",
       "    var output_index = fig.cell_info[2]\n",
       "    var cell = fig.cell_info[0];\n",
       "\n",
       "};\n",
       "\n",
       "mpl.figure.prototype.handle_close = function(fig, msg) {\n",
       "    var width = fig.canvas.width/mpl.ratio\n",
       "    fig.root.unbind('remove')\n",
       "\n",
       "    // Update the output cell to use the data from the current canvas.\n",
       "    fig.push_to_output();\n",
       "    var dataURL = fig.canvas.toDataURL();\n",
       "    // Re-enable the keyboard manager in IPython - without this line, in FF,\n",
       "    // the notebook keyboard shortcuts fail.\n",
       "    IPython.keyboard_manager.enable()\n",
       "    $(fig.parent_element).html('<img src=\"' + dataURL + '\" width=\"' + width + '\">');\n",
       "    fig.close_ws(fig, msg);\n",
       "}\n",
       "\n",
       "mpl.figure.prototype.close_ws = function(fig, msg){\n",
       "    fig.send_message('closing', msg);\n",
       "    // fig.ws.close()\n",
       "}\n",
       "\n",
       "mpl.figure.prototype.push_to_output = function(remove_interactive) {\n",
       "    // Turn the data on the canvas into data in the output cell.\n",
       "    var width = this.canvas.width/mpl.ratio\n",
       "    var dataURL = this.canvas.toDataURL();\n",
       "    this.cell_info[1]['text/html'] = '<img src=\"' + dataURL + '\" width=\"' + width + '\">';\n",
       "}\n",
       "\n",
       "mpl.figure.prototype.updated_canvas_event = function() {\n",
       "    // Tell IPython that the notebook contents must change.\n",
       "    IPython.notebook.set_dirty(true);\n",
       "    this.send_message(\"ack\", {});\n",
       "    var fig = this;\n",
       "    // Wait a second, then push the new image to the DOM so\n",
       "    // that it is saved nicely (might be nice to debounce this).\n",
       "    setTimeout(function () { fig.push_to_output() }, 1000);\n",
       "}\n",
       "\n",
       "mpl.figure.prototype._init_toolbar = function() {\n",
       "    var fig = this;\n",
       "\n",
       "    var nav_element = $('<div/>')\n",
       "    nav_element.attr('style', 'width: 100%');\n",
       "    this.root.append(nav_element);\n",
       "\n",
       "    // Define a callback function for later on.\n",
       "    function toolbar_event(event) {\n",
       "        return fig.toolbar_button_onclick(event['data']);\n",
       "    }\n",
       "    function toolbar_mouse_event(event) {\n",
       "        return fig.toolbar_button_onmouseover(event['data']);\n",
       "    }\n",
       "\n",
       "    for(var toolbar_ind in mpl.toolbar_items){\n",
       "        var name = mpl.toolbar_items[toolbar_ind][0];\n",
       "        var tooltip = mpl.toolbar_items[toolbar_ind][1];\n",
       "        var image = mpl.toolbar_items[toolbar_ind][2];\n",
       "        var method_name = mpl.toolbar_items[toolbar_ind][3];\n",
       "\n",
       "        if (!name) { continue; };\n",
       "\n",
       "        var button = $('<button class=\"btn btn-default\" href=\"#\" title=\"' + name + '\"><i class=\"fa ' + image + ' fa-lg\"></i></button>');\n",
       "        button.click(method_name, toolbar_event);\n",
       "        button.mouseover(tooltip, toolbar_mouse_event);\n",
       "        nav_element.append(button);\n",
       "    }\n",
       "\n",
       "    // Add the status bar.\n",
       "    var status_bar = $('<span class=\"mpl-message\" style=\"text-align:right; float: right;\"/>');\n",
       "    nav_element.append(status_bar);\n",
       "    this.message = status_bar[0];\n",
       "\n",
       "    // Add the close button to the window.\n",
       "    var buttongrp = $('<div class=\"btn-group inline pull-right\"></div>');\n",
       "    var button = $('<button class=\"btn btn-mini btn-primary\" href=\"#\" title=\"Stop Interaction\"><i class=\"fa fa-power-off icon-remove icon-large\"></i></button>');\n",
       "    button.click(function (evt) { fig.handle_close(fig, {}); } );\n",
       "    button.mouseover('Stop Interaction', toolbar_mouse_event);\n",
       "    buttongrp.append(button);\n",
       "    var titlebar = this.root.find($('.ui-dialog-titlebar'));\n",
       "    titlebar.prepend(buttongrp);\n",
       "}\n",
       "\n",
       "mpl.figure.prototype._root_extra_style = function(el){\n",
       "    var fig = this\n",
       "    el.on(\"remove\", function(){\n",
       "\tfig.close_ws(fig, {});\n",
       "    });\n",
       "}\n",
       "\n",
       "mpl.figure.prototype._canvas_extra_style = function(el){\n",
       "    // this is important to make the div 'focusable\n",
       "    el.attr('tabindex', 0)\n",
       "    // reach out to IPython and tell the keyboard manager to turn it's self\n",
       "    // off when our div gets focus\n",
       "\n",
       "    // location in version 3\n",
       "    if (IPython.notebook.keyboard_manager) {\n",
       "        IPython.notebook.keyboard_manager.register_events(el);\n",
       "    }\n",
       "    else {\n",
       "        // location in version 2\n",
       "        IPython.keyboard_manager.register_events(el);\n",
       "    }\n",
       "\n",
       "}\n",
       "\n",
       "mpl.figure.prototype._key_event_extra = function(event, name) {\n",
       "    var manager = IPython.notebook.keyboard_manager;\n",
       "    if (!manager)\n",
       "        manager = IPython.keyboard_manager;\n",
       "\n",
       "    // Check for shift+enter\n",
       "    if (event.shiftKey && event.which == 13) {\n",
       "        this.canvas_div.blur();\n",
       "        event.shiftKey = false;\n",
       "        // Send a \"J\" for go to next cell\n",
       "        event.which = 74;\n",
       "        event.keyCode = 74;\n",
       "        manager.command_mode();\n",
       "        manager.handle_keydown(event);\n",
       "    }\n",
       "}\n",
       "\n",
       "mpl.figure.prototype.handle_save = function(fig, msg) {\n",
       "    fig.ondownload(fig, null);\n",
       "}\n",
       "\n",
       "\n",
       "mpl.find_output_cell = function(html_output) {\n",
       "    // Return the cell and output element which can be found *uniquely* in the notebook.\n",
       "    // Note - this is a bit hacky, but it is done because the \"notebook_saving.Notebook\"\n",
       "    // IPython event is triggered only after the cells have been serialised, which for\n",
       "    // our purposes (turning an active figure into a static one), is too late.\n",
       "    var cells = IPython.notebook.get_cells();\n",
       "    var ncells = cells.length;\n",
       "    for (var i=0; i<ncells; i++) {\n",
       "        var cell = cells[i];\n",
       "        if (cell.cell_type === 'code'){\n",
       "            for (var j=0; j<cell.output_area.outputs.length; j++) {\n",
       "                var data = cell.output_area.outputs[j];\n",
       "                if (data.data) {\n",
       "                    // IPython >= 3 moved mimebundle to data attribute of output\n",
       "                    data = data.data;\n",
       "                }\n",
       "                if (data['text/html'] == html_output) {\n",
       "                    return [cell, data, j];\n",
       "                }\n",
       "            }\n",
       "        }\n",
       "    }\n",
       "}\n",
       "\n",
       "// Register the function which deals with the matplotlib target/channel.\n",
       "// The kernel may be null if the page has been refreshed.\n",
       "if (IPython.notebook.kernel != null) {\n",
       "    IPython.notebook.kernel.comm_manager.register_target('matplotlib', mpl.mpl_figure_comm);\n",
       "}\n"
      ],
      "text/plain": [
       "<IPython.core.display.Javascript object>"
      ]
     },
     "metadata": {},
     "output_type": "display_data"
    },
    {
     "data": {
      "text/html": [
       "<img src=\"data:image/png;base64,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\" width=\"639.4710340596957\">"
      ],
      "text/plain": [
       "<IPython.core.display.HTML object>"
      ]
     },
     "metadata": {},
     "output_type": "display_data"
    },
    {
     "name": "stderr",
     "output_type": "stream",
     "text": [
      "C:\\Users\\Keulando\\Anaconda3\\lib\\site-packages\\networkx\\drawing\\nx_pylab.py:522: MatplotlibDeprecationWarning: The is_string_like function was deprecated in version 2.1.\n",
      "  if not cb.is_string_like(edge_color) \\\n",
      "C:\\Users\\Keulando\\Anaconda3\\lib\\site-packages\\networkx\\drawing\\nx_pylab.py:543: MatplotlibDeprecationWarning: The is_string_like function was deprecated in version 2.1.\n",
      "  if cb.is_string_like(edge_color) or len(edge_color) == 1:\n",
      "C:\\Users\\Keulando\\Anaconda3\\lib\\site-packages\\networkx\\drawing\\nx_pylab.py:724: MatplotlibDeprecationWarning: The is_string_like function was deprecated in version 2.1.\n",
      "  if not cb.is_string_like(label):\n"
     ]
    }
   ],
   "source": [
    "nx.draw_networkx(G)"
   ]
  },
  {
   "cell_type": "code",
   "execution_count": 26,
   "metadata": {
    "ExecuteTime": {
     "end_time": "2018-04-26T12:20:50.964887Z",
     "start_time": "2018-04-26T12:20:50.955910Z"
    }
   },
   "outputs": [
    {
     "data": {
      "text/plain": [
       "{'A': 0.21428680419921875,\n",
       " 'B': 0.1785717010498047,\n",
       " 'C': 0.3214282989501953,\n",
       " 'D': 0.28571319580078125}"
      ]
     },
     "execution_count": 26,
     "metadata": {},
     "output_type": "execute_result"
    }
   ],
   "source": [
    "nx.pagerank(G, alpha=0.5)"
   ]
  },
  {
   "cell_type": "code",
   "execution_count": 28,
   "metadata": {
    "ExecuteTime": {
     "end_time": "2018-04-26T12:21:09.880442Z",
     "start_time": "2018-04-26T12:21:09.868408Z"
    }
   },
   "outputs": [
    {
     "data": {
      "text/plain": [
       "{'A': 0.13235426576459627,\n",
       " 'B': 0.1029417063058385,\n",
       " 'C': 0.3970582936941615,\n",
       " 'D': 0.36764573423540375}"
      ]
     },
     "execution_count": 28,
     "metadata": {},
     "output_type": "execute_result"
    }
   ],
   "source": [
    "nx.pagerank(G,alpha=0.8)"
   ]
  },
  {
   "cell_type": "code",
   "execution_count": 30,
   "metadata": {
    "ExecuteTime": {
     "end_time": "2018-04-26T12:21:20.738004Z",
     "start_time": "2018-04-26T12:21:20.729989Z"
    }
   },
   "outputs": [
    {
     "data": {
      "text/plain": [
       "{'A': 0.04442211856731087,\n",
       " 'B': 0.03360050631947267,\n",
       " 'C': 0.46639949368052747,\n",
       " 'D': 0.4555778814326893}"
      ]
     },
     "execution_count": 30,
     "metadata": {},
     "output_type": "execute_result"
    }
   ],
   "source": [
    "nx.pagerank(G,alpha=0.95)"
   ]
  },
  {
   "cell_type": "code",
   "execution_count": 31,
   "metadata": {
    "ExecuteTime": {
     "end_time": "2018-04-26T12:21:31.077740Z",
     "start_time": "2018-04-26T12:21:31.068715Z"
    }
   },
   "outputs": [
    {
     "data": {
      "text/plain": [
       "{'A': 0.07983327489935103,\n",
       " 'B': 0.06092586099927893,\n",
       " 'C': 0.4390741390007211,\n",
       " 'D': 0.420166725100649}"
      ]
     },
     "execution_count": 31,
     "metadata": {},
     "output_type": "execute_result"
    }
   ],
   "source": [
    "nx.pagerank(G,alpha=0.9)"
   ]
  },
  {
   "cell_type": "code",
   "execution_count": 32,
   "metadata": {
    "ExecuteTime": {
     "end_time": "2018-04-26T12:22:36.779079Z",
     "start_time": "2018-04-26T12:22:36.772061Z"
    }
   },
   "outputs": [],
   "source": [
    "G = nx.DiGraph()\n",
    "G.add_edges_from([(\"A\",\"B\"),(\"A\",\"C\"),(\"B\",\"C\"),(\"C\",\"A\"),(\"D\",\"C\")])"
   ]
  },
  {
   "cell_type": "code",
   "execution_count": 34,
   "metadata": {
    "ExecuteTime": {
     "end_time": "2018-04-26T12:23:37.170598Z",
     "start_time": "2018-04-26T12:23:37.161566Z"
    }
   },
   "outputs": [
    {
     "data": {
      "text/plain": [
       "{'A': 0.372526246091333,\n",
       " 'B': 0.19582365458881654,\n",
       " 'C': 0.39415009931985023,\n",
       " 'D': 0.037500000000000006}"
      ]
     },
     "execution_count": 34,
     "metadata": {},
     "output_type": "execute_result"
    }
   ],
   "source": [
    "nx.pagerank(G)"
   ]
  },
  {
   "cell_type": "code",
   "execution_count": 35,
   "metadata": {
    "ExecuteTime": {
     "end_time": "2018-04-26T12:24:36.575384Z",
     "start_time": "2018-04-26T12:24:36.567324Z"
    }
   },
   "outputs": [],
   "source": [
    "#HITS\n",
    "\n",
    "G = nx.DiGraph()\n",
    "G.add_edges_from([(\"A\",\"B\"),(\"A\",\"C\"),(\"B\",\"C\"),(\"C\",\"A\"),(\"D\",\"C\")])"
   ]
  },
  {
   "cell_type": "code",
   "execution_count": 41,
   "metadata": {
    "ExecuteTime": {
     "end_time": "2018-04-26T12:25:53.933236Z",
     "start_time": "2018-04-26T12:25:53.924338Z"
    }
   },
   "outputs": [
    {
     "data": {
      "text/plain": [
       "({'A': 0.41421356195612885,\n",
       "  'B': 0.2928932185186695,\n",
       "  'C': 1.0065322483445805e-09,\n",
       "  'D': 0.2928932185186695},\n",
       " {'A': 2.429983801460681e-09,\n",
       "  'B': 0.29289321810158986,\n",
       "  'C': 0.7071067794684264,\n",
       "  'D': 0.0})"
      ]
     },
     "execution_count": 41,
     "metadata": {},
     "output_type": "execute_result"
    }
   ],
   "source": [
    "nx.hits(G)"
   ]
  },
  {
   "cell_type": "code",
   "execution_count": null,
   "metadata": {},
   "outputs": [],
   "source": [
    "def answer_four():\n",
    "    betw_cent = nx.betweenness_centrality(G1, normalized=True, endpoints=False)    \n",
    "    best_node =  max((i,v) for i,v in betw_cent.items())\n",
    "    return best_node[0]\n",
    "\n",
    "def answer_five():\n",
    "        \n",
    "    pr = nx.pagerank(G2)\n",
    "    \n",
    "    return pr['realclearpolitics.com']"
   ]
  }
 ],
 "metadata": {
  "kernelspec": {
   "display_name": "Python 3",
   "language": "python",
   "name": "python3"
  },
  "language_info": {
   "codemirror_mode": {
    "name": "ipython",
    "version": 3
   },
   "file_extension": ".py",
   "mimetype": "text/x-python",
   "name": "python",
   "nbconvert_exporter": "python",
   "pygments_lexer": "ipython3",
   "version": "3.6.3"
  },
  "toc": {
   "nav_menu": {},
   "number_sections": true,
   "sideBar": true,
   "skip_h1_title": false,
   "title_cell": "Table of Contents",
   "title_sidebar": "Contents",
   "toc_cell": false,
   "toc_position": {},
   "toc_section_display": true,
   "toc_window_display": false
  },
  "varInspector": {
   "cols": {
    "lenName": 16,
    "lenType": 16,
    "lenVar": 40
   },
   "kernels_config": {
    "python": {
     "delete_cmd_postfix": "",
     "delete_cmd_prefix": "del ",
     "library": "var_list.py",
     "varRefreshCmd": "print(var_dic_list())"
    },
    "r": {
     "delete_cmd_postfix": ") ",
     "delete_cmd_prefix": "rm(",
     "library": "var_list.r",
     "varRefreshCmd": "cat(var_dic_list()) "
    }
   },
   "types_to_exclude": [
    "module",
    "function",
    "builtin_function_or_method",
    "instance",
    "_Feature"
   ],
   "window_display": false
  }
 },
 "nbformat": 4,
 "nbformat_minor": 2
}
