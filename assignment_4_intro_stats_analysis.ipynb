{
 "cells": [
  {
   "cell_type": "code",
   "execution_count": 1,
   "metadata": {
    "ExecuteTime": {
     "end_time": "2018-01-22T18:34:17.403253Z",
     "start_time": "2018-01-22T18:34:15.814226Z"
    },
    "collapsed": true
   },
   "outputs": [],
   "source": [
    "import numpy as np\n",
    "import pandas as pd\n",
    "from scipy.stats import ttest_ind\n",
    "#C:/users/ederson/documents/python_data_analysis/"
   ]
  },
  {
   "cell_type": "code",
   "execution_count": 8,
   "metadata": {
    "ExecuteTime": {
     "end_time": "2018-01-22T18:36:32.991650Z",
     "start_time": "2018-01-22T18:36:32.967145Z"
    },
    "collapsed": true
   },
   "outputs": [],
   "source": [
    "def get_list_of_university_towns():\n",
    "    \n",
    "  \n",
    "    uni_town=pd.read_table(\"C:/users/ederson/documents/python_data_analysis/intro_data_science/university_towns.txt\", names=[\"State\",\"RegionName\"])\n",
    "    uni_town[\"RegionName\"]=np.where(uni_town.State.str.contains(':')|\n",
    "                                uni_town.State.str.contains('\\(')|\n",
    "                                uni_town.State.str.contains(\",\"), uni_town.State, np.nan)\n",
    "    uni_town[\"State\"]=np.where(uni_town.State.str.contains(\"edit\"), uni_town.State, np.nan)\n",
    "    uni_town['State'].ffill(inplace = True)\n",
    "    uni_town.dropna(inplace=True)\n",
    "    uni_town.replace(to_replace=[r\"\\[edit\\]\",r\"\\s+\\(.*\\)\\[\\d\\]\",r\"\\s+\\(.*\",r\"\\[\\d\\]\",r\"\\[\\d\\d\\]\",r\"\\s+and+\\s+.*\"], \n",
    "                value=[\"\",\"\",\"\",\"\",\"\",\"\"], regex=True, inplace=True)\n",
    "    uni_town.reset_index(drop=True, inplace=True)\n",
    "    \n",
    "    return uni_town"
   ]
  },
  {
   "cell_type": "code",
   "execution_count": 9,
   "metadata": {
    "ExecuteTime": {
     "end_time": "2018-01-22T18:36:42.091690Z",
     "start_time": "2018-01-22T18:36:42.074191Z"
    },
    "collapsed": true
   },
   "outputs": [],
   "source": [
    "#or like this\n",
    "def get_list_of_university_towns():\n",
    "\n",
    "    with open(\"C:/users/ederson/documents/python_data_analysis/intro_data_science/university_towns.txt\") as u:\n",
    "        file=[]\n",
    "    \n",
    "        for line in u:\n",
    "            m=re.search(\"(.+)\\[edit\\]\", line)\n",
    "            if m:\n",
    "                state=m.group(1)\n",
    "            else:\n",
    "                town=line.split(\"(\")[0].strip()\n",
    "                file.append([state,town])\n",
    "\n",
    "        unitown=pd.DataFrame(file,columns=[\"State\",\"RegionName\"])\n",
    "    return unitown"
   ]
  },
  {
   "cell_type": "code",
   "execution_count": 10,
   "metadata": {
    "ExecuteTime": {
     "end_time": "2018-01-22T18:36:43.507673Z",
     "start_time": "2018-01-22T18:36:43.306626Z"
    }
   },
   "outputs": [
    {
     "name": "stdout",
     "output_type": "stream",
     "text": [
      "Shape test:  Passed\n",
      "Index test:  Passed\n",
      "Column test:  Passed\n",
      "\\n test:  Passed\n",
      "Trailing whitespace test: Passed\n",
      "\"(\" test: Passed\n",
      "\"[\" test: Passed\n",
      "State test:  Passed\n",
      "RegionName test:   \n",
      "Mismatching regionNames\n",
      "             RegionName  expected_length  actual_length\n",
      "96  Champaignâ€“Urbana               16             18\n"
     ]
    }
   ],
   "source": [
    "#test for q1\n",
    "import re\n",
    "import pandas as pd\n",
    "import numpy as np\n",
    "# list of unique states\n",
    "stateStr = \"\"\"\n",
    "Ohio, Kentucky, American Samoa, Nevada, Wyoming\n",
    ",National, Alabama, Maryland, Alaska, Utah\n",
    ",Oregon, Montana, Illinois, Tennessee, District of Columbia\n",
    ",Vermont, Idaho, Arkansas, Maine, Washington\n",
    ",Hawaii, Wisconsin, Michigan, Indiana, New Jersey\n",
    ",Arizona, Guam, Mississippi, Puerto Rico, North Carolina\n",
    ",Texas, South Dakota, Northern Mariana Islands, Iowa, Missouri\n",
    ",Connecticut, West Virginia, South Carolina, Louisiana, Kansas\n",
    ",New York, Nebraska, Oklahoma, Florida, California\n",
    ",Colorado, Pennsylvania, Delaware, New Mexico, Rhode Island\n",
    ",Minnesota, Virgin Islands, New Hampshire, Massachusetts, Georgia\n",
    ",North Dakota, Virginia\n",
    "\"\"\"\n",
    "#list of regionName entries string length\n",
    "regNmLenStr = \"\"\"\n",
    "06,08,12,10,10,04,10,08,09,09,05,06,11,06,12,09,08,10,12,06,\n",
    "06,06,08,05,09,06,05,06,10,28,06,06,09,06,08,09,10,35,09,15,\n",
    "13,10,07,21,08,07,07,07,12,06,14,07,08,16,09,10,11,09,10,06,\n",
    "11,05,06,09,10,12,06,06,11,07,08,13,07,11,05,06,06,07,10,08,\n",
    "11,08,13,12,06,04,08,10,08,07,12,05,06,09,07,10,16,10,06,12,\n",
    "08,07,06,06,06,11,14,11,07,06,06,12,08,10,11,06,10,14,04,11,\n",
    "18,07,07,08,09,06,13,11,12,10,07,12,07,04,08,09,09,13,08,10,\n",
    "16,09,10,08,06,08,12,07,11,09,07,09,06,12,06,09,07,10,09,10,\n",
    "09,06,15,05,10,09,11,12,10,10,09,13,06,09,11,06,11,09,13,37,\n",
    "06,13,06,09,49,07,11,12,09,11,11,07,12,10,06,06,09,04,09,15,\n",
    "10,12,05,09,08,09,09,07,14,06,07,16,12,09,07,09,06,32,07,08,\n",
    "08,06,10,36,09,10,09,06,09,11,09,06,10,07,14,08,07,06,10,09,\n",
    "05,11,07,06,08,07,05,07,07,04,06,05,09,04,25,06,07,08,05,08,\n",
    "06,05,11,09,07,07,06,13,09,05,16,05,10,09,08,11,06,06,06,10,\n",
    "09,07,06,07,10,05,08,07,06,08,06,30,09,07,06,11,07,12,08,09,\n",
    "16,12,11,08,06,04,10,10,15,05,11,11,09,08,06,04,10,10,07,09,\n",
    "11,08,26,07,13,05,11,03,08,07,06,05,08,13,10,08,08,08,07,07,\n",
    "09,05,04,11,11,07,06,10,11,03,04,06,06,08,08,06,10,09,05,11,\n",
    "07,09,06,12,13,09,10,11,08,07,07,08,09,10,08,10,08,56,07,12,\n",
    "07,16,08,04,10,10,10,10,07,09,08,09,09,10,07,09,09,09,12,14,\n",
    "10,29,19,07,11,12,13,13,09,10,12,12,12,08,10,07,10,07,07,08,\n",
    "08,08,09,10,09,11,09,07,09,10,11,11,10,09,09,12,09,06,08,07,\n",
    "12,09,07,07,06,06,08,06,15,08,06,06,10,10,10,07,05,10,07,11,\n",
    "09,12,10,12,04,10,05,05,04,14,07,10,09,07,11,10,10,10,11,15,\n",
    "09,14,12,09,09,07,12,04,10,10,06,10,07,28,06,10,08,09,10,10,\n",
    "10,13,12,08,10,09,09,07,09,09,07,11,11,13,08,10,07\n",
    "\"\"\"\n",
    "\n",
    "df = get_list_of_university_towns()\n",
    "\n",
    "cols = [\"State\", \"RegionName\"]\n",
    "\n",
    "print('Shape test: ', \"Passed\" if df.shape ==\n",
    "      (517, 2) else 'Failed')\n",
    "print('Index test: ',\n",
    "      \"Passed\" if df.index.tolist() == list(range(517))\n",
    "      else 'Failed')\n",
    "\n",
    "print('Column test: ',\n",
    "      \"Passed\" if df.columns.tolist() == cols else 'Failed')\n",
    "print('\\\\n test: ',\n",
    "      \"Failed\" if any(df[cols[0]].str.contains(\n",
    "          '\\n')) or any(df[cols[1]].str.contains('\\n'))\n",
    "      else 'Passed')\n",
    "print('Trailing whitespace test:',\n",
    "      \"Failed\" if any(df[cols[0]].str.contains(\n",
    "          '\\s+$')) or any(df[cols[1]].str.contains(\n",
    "              '\\s+$'))\n",
    "      else 'Passed')\n",
    "print('\"(\" test:',\n",
    "      \"Failed\" if any(df[cols[0]].str.contains(\n",
    "          '\\(')) or any(df[cols[1]].str.contains(\n",
    "              '\\('))\n",
    "      else 'Passed')\n",
    "print('\"[\" test:',\n",
    "      \"Failed\" if any(df[cols[0]].str.contains(\n",
    "          '\\[')) or any(df[cols[1]].str.contains(\n",
    "              '\\]'))\n",
    "      else 'Passed')\n",
    "\n",
    "states_vlist = [st.strip() for st in stateStr.split(',')]\n",
    "\n",
    "mismatchedStates = df[~df['State'].isin(\n",
    "    states_vlist)].loc[:, 'State'].unique()\n",
    "print('State test: ', \"Passed\" if len(\n",
    "    mismatchedStates) == 0 else \"Failed\")\n",
    "if len(mismatchedStates) > 0:\n",
    "    print()\n",
    "    print('The following states failed the equality test:')\n",
    "    print()\n",
    "    print('\\n'.join(mismatchedStates))\n",
    "\n",
    "df['expected_length'] = [int(s.strip())\n",
    "                         for s in regNmLenStr.split(',')\n",
    "                         if s.strip().isdigit()]\n",
    "regDiff = df[df['RegionName'].str.len() != df['expected_length']].loc[\n",
    "    :, ['RegionName', 'expected_length']]\n",
    "regDiff['actual_length'] = regDiff['RegionName'].str.len()\n",
    "print('RegionName test: ', \"Passed\" if len(regDiff) ==\n",
    "      0 else ' \\nMismatching regionNames\\n {}'.format(regDiff))"
   ]
  },
  {
   "cell_type": "code",
   "execution_count": 13,
   "metadata": {
    "ExecuteTime": {
     "end_time": "2018-01-22T18:37:01.814685Z",
     "start_time": "2018-01-22T18:37:01.794180Z"
    },
    "collapsed": true
   },
   "outputs": [],
   "source": [
    "def get_recession_start():\n",
    "    '''Returns the year and quarter of the recession start time as a \n",
    "    string value in a format such as 2005q3'''\n",
    "    \n",
    "    gdp=pd.read_excel(\"C:/users/ederson/documents/python_data_analysis/intro_data_science/gdplev.xls\",\n",
    "                  skiprows=218,\n",
    "                  usecols=(4,6),\n",
    "                  names=[\"year\",\"GDP\"]\n",
    "                  \n",
    "                 )\n",
    "    gdp[\"diff\"]=gdp[\"GDP\"].diff(1)\n",
    "    gdp[\"signal\"]=gdp[\"diff\"].clip(lower=-1.0, upper=1.0)\n",
    "    gdp[\"start\"]=(gdp[\"signal\"]==-1) & (gdp[\"signal\"].shift(-1)==-1)\n",
    "    foo=gdp.loc[(gdp[\"signal\"]==-1) & (gdp[\"signal\"].shift(-1)==-1)][\"year\"].iloc[0]\n",
    "    \n",
    "    \n",
    "    return foo"
   ]
  },
  {
   "cell_type": "code",
   "execution_count": 14,
   "metadata": {
    "ExecuteTime": {
     "end_time": "2018-01-22T18:37:03.641927Z",
     "start_time": "2018-01-22T18:37:03.588419Z"
    }
   },
   "outputs": [
    {
     "data": {
      "text/plain": [
       "'2008q3'"
      ]
     },
     "execution_count": 14,
     "metadata": {},
     "output_type": "execute_result"
    }
   ],
   "source": [
    "get_recession_start()"
   ]
  },
  {
   "cell_type": "code",
   "execution_count": 33,
   "metadata": {},
   "outputs": [
    {
     "data": {
      "text/plain": [
       "'2009q4'"
      ]
     },
     "execution_count": 33,
     "metadata": {},
     "output_type": "execute_result"
    }
   ],
   "source": [
    "def get_recession_end():\n",
    "    '''Returns the year and quarter of the recession end time as a \n",
    "    string value in a format such as 2005q3'''\n",
    "    \n",
    "    gdp=pd.read_excel(\"C:/users/ederson/documents/python_data_analysis/gdplev.xls\",\n",
    "                  skiprows=218,\n",
    "                  usecols=(4,6),\n",
    "                  names=[\"year\",\"GDP\"]\n",
    "                  )\n",
    "    gdp[\"diff\"]=gdp[\"GDP\"].diff(1)\n",
    "\n",
    "    gdp[\"signal\"]=gdp[\"diff\"].clip(lower=-1.0, upper=1.0)\n",
    "    gdp[\"start\"]=(gdp[\"signal\"]==-1) & (gdp[\"signal\"].shift()==-1)\n",
    "    gdp[\"end\"]=(gdp[\"signal\"]==1) & (gdp[\"signal\"].shift(-1)==1)\n",
    "\n",
    "    foo=gdp.loc[(((gdp[\"start\"]==False)&(gdp[\"end\"]==True)) &\n",
    "             ((gdp[\"start\"].shift(2)==True) & (gdp[\"end\"].shift(2)==False)))][\"year\"].iloc[1]\n",
    "\n",
    "\n",
    "       \n",
    "    return foo\n",
    "\n",
    "get_recession_end()"
   ]
  },
  {
   "cell_type": "code",
   "execution_count": 8,
   "metadata": {
    "collapsed": true
   },
   "outputs": [],
   "source": [
    "def get_recession_bottom():\n",
    "    '''Returns the year and quarter of the recession bottom time as a \n",
    "    string value in a format such as 2005q3'''\n",
    "    \n",
    "    gdp=pd.read_excel(\"C:/users/ederson/documents/python_data_analysis/gdplev.xls\",\n",
    "                  skiprows=218,\n",
    "                  usecols=(4,6),\n",
    "                  names=[\"year\",\"GDP\"])\n",
    "    \n",
    "    gdp[\"diff\"]=gdp[\"GDP\"].diff(1)\n",
    "    \n",
    "    gdp[\"signal\"]=gdp[\"diff\"].clip(lower=-1.0, upper=1.0)\n",
    "    gdp[\"start\"]=(gdp[\"signal\"]==-1) & (gdp[\"signal\"].shift()==-1)\n",
    "    gdp[\"end\"]=(gdp[\"signal\"]==1) & (gdp[\"signal\"].shift(-1)==1)\n",
    "    \n",
    "    foo=gdp.loc[(((gdp[\"start\"]==True)&(gdp[\"end\"]==False))&\n",
    "                 ((gdp[\"start\"].shift(-4)==False) & (gdp[\"end\"].shift(-4)==True)))][\"year\"].iloc[2]\n",
    "   \n",
    "    return foo"
   ]
  },
  {
   "cell_type": "code",
   "execution_count": 19,
   "metadata": {
    "collapsed": true
   },
   "outputs": [],
   "source": [
    "def new_col_names():\n",
    "    #generating the new coloumns names \n",
    "    years = list(range(2000,2017))\n",
    "    quars = ['q1','q2','q3','q4']\n",
    "    quar_years = []\n",
    "    for i in years:\n",
    "        for x in quars:\n",
    "            quar_years.append((str(i)+x))\n",
    "    return quar_years[:67]\n",
    "def convert_housing_data_to_quarters():\n",
    "    '''Converts the housing data to quarters and returns it as mean \n",
    "    values in a dataframe. This dataframe should be a dataframe with\n",
    "    columns for 2000q1 through 2016q3, and should have a multi-index\n",
    "    in the shape of [\"State\",\"RegionName\"].\n",
    "    \n",
    "    Note: Quarters are defined in the assignment description, they are\n",
    "    not arbitrary three month periods.\n",
    "    \n",
    "    The resulting dataframe should have 67 columns, and 10,730 rows.\n",
    "    '''\n",
    "    \n",
    "    states = {'OH': 'Ohio', 'KY': 'Kentucky', 'AS': 'American Samoa', 'NV': 'Nevada', 'WY': 'Wyoming', 'NA': 'National', 'AL': 'Alabama', 'MD': 'Maryland', 'AK': 'Alaska', 'UT': 'Utah', 'OR': 'Oregon', 'MT': 'Montana', 'IL': 'Illinois', 'TN': 'Tennessee', 'DC': 'District of Columbia', 'VT': 'Vermont', 'ID': 'Idaho', 'AR': 'Arkansas', 'ME': 'Maine', 'WA': 'Washington', 'HI': 'Hawaii', 'WI': 'Wisconsin', 'MI': 'Michigan', 'IN': 'Indiana', 'NJ': 'New Jersey', 'AZ': 'Arizona', 'GU': 'Guam', 'MS': 'Mississippi', 'PR': 'Puerto Rico', 'NC': 'North Carolina', 'TX': 'Texas', 'SD': 'South Dakota', 'MP': 'Northern Mariana Islands', 'IA': 'Iowa', 'MO': 'Missouri', 'CT': 'Connecticut', 'WV': 'West Virginia', 'SC': 'South Carolina', 'LA': 'Louisiana', 'KS': 'Kansas', 'NY': 'New York', 'NE': 'Nebraska', 'OK': 'Oklahoma', 'FL': 'Florida', 'CA': 'California', 'CO': 'Colorado', 'PA': 'Pennsylvania', 'DE': 'Delaware', 'NM': 'New Mexico', 'RI': 'Rhode Island', 'MN': 'Minnesota', 'VI': 'Virgin Islands', 'NH': 'New Hampshire', 'MA': 'Massachusetts', 'GA': 'Georgia', 'ND': 'North Dakota', 'VA': 'Virginia'}\n",
    "    data = pd.read_csv('C:/users/ederson/documents/python_data_analysis/City_Zhvi_AllHomes.csv')\n",
    "    data.drop(['Metro','CountyName','RegionID','SizeRank'],axis=1,inplace=True)\n",
    "    data['State'] = data['State'].map(states)\n",
    "    data.set_index(['State','RegionName'],inplace=True)\n",
    "    data=data[data.columns.drop(list(data.filter(regex=\"199.*\")))]\n",
    "    \n",
    "    qs=[list(data.columns)[x:x+3] for x in range(0,len(list(data.columns)),3)]\n",
    "    #result=take data.columns, convert it to a list, make a list with cols x to x+3,\n",
    "#for each col x in range 0 to end with step 3\n",
    "    # new columns\n",
    "    column_names = new_col_names()\n",
    "    for col,q in zip(column_names,qs):\n",
    "        data[col] = data[q].mean(axis=1)\n",
    "    \n",
    "    data=data[column_names]\n",
    "    return data"
   ]
  },
  {
   "cell_type": "code",
   "execution_count": 42,
   "metadata": {
    "collapsed": true
   },
   "outputs": [],
   "source": [
    "def run_ttest():\n",
    "    '''First creates new data showing the decline or growth of housing prices\n",
    "    between the recession start and the recession bottom. Then runs a ttest\n",
    "    comparing the university town values to the non-university towns values, \n",
    "    return whether the alternative hypothesis (that the two groups are the same)\n",
    "    is true or not as well as the p-value of the confidence. \n",
    "    \n",
    "    Return the tuple (different, p, better) \n",
    "    where \n",
    "    \n",
    "    different=True if the t-test is True at a p<0.01 (we reject the null hypothesis), \n",
    "    different=False if otherwise (we cannot reject the null hypothesis). \n",
    "    \n",
    "    The variable p should\n",
    "    be equal to the exact p value returned from scipy.stats.ttest_ind(). The\n",
    "    value for better should be either \"university town\" or \"non-university town\"\n",
    "    depending on which has a lower mean price ratio (which is equivilent to a\n",
    "    reduced market loss).'''\n",
    "    data = convert_housing_data_to_quarters().copy()\n",
    "    data = data.loc[:,'2008q3':'2009q2']\n",
    "    data = data.reset_index()\n",
    "    def price_ratio(row):\n",
    "        return (row['2008q3'] - row['2009q2'])/row['2008q3']\n",
    "    \n",
    "    data['up&down'] = data.apply(price_ratio,axis=1)\n",
    "    #uni data \n",
    "    \n",
    "    uni_town = get_list_of_university_towns()['RegionName']\n",
    "    uni_town = set(uni_town)\n",
    "\n",
    "    def is_uni_town(row):\n",
    "        #check if the town is a university towns or not.\n",
    "        if row['RegionName'] in uni_town:\n",
    "            return 1\n",
    "        else:\n",
    "            return 0\n",
    "    data['is_uni'] = data.apply(is_uni_town,axis=1)\n",
    "    \n",
    "    \n",
    "    not_uni = data[data['is_uni']==0].loc[:,'up&down'].dropna()\n",
    "    is_uni  = data[data['is_uni']==1].loc[:,'up&down'].dropna()\n",
    "    def better():\n",
    "        if not_uni.mean() < is_uni.mean():\n",
    "            return 'non-university town'\n",
    "        else:\n",
    "            return 'university town'\n",
    "    p_val = list(ttest_ind(not_uni, is_uni))[1]\n",
    "    result = (True,p_val,better())\n",
    "    return result\n"
   ]
  },
  {
   "cell_type": "code",
   "execution_count": null,
   "metadata": {
    "collapsed": true
   },
   "outputs": [],
   "source": []
  },
  {
   "cell_type": "code",
   "execution_count": null,
   "metadata": {
    "collapsed": true
   },
   "outputs": [],
   "source": []
  }
 ],
 "metadata": {
  "kernelspec": {
   "display_name": "Python 3",
   "language": "python",
   "name": "python3"
  },
  "language_info": {
   "codemirror_mode": {
    "name": "ipython",
    "version": 3
   },
   "file_extension": ".py",
   "mimetype": "text/x-python",
   "name": "python",
   "nbconvert_exporter": "python",
   "pygments_lexer": "ipython3",
   "version": "3.6.4"
  },
  "toc": {
   "nav_menu": {},
   "number_sections": true,
   "sideBar": true,
   "skip_h1_title": false,
   "title_cell": "Table of Contents",
   "title_sidebar": "Contents",
   "toc_cell": false,
   "toc_position": {},
   "toc_section_display": "block",
   "toc_window_display": false
  },
  "varInspector": {
   "cols": {
    "lenName": 16,
    "lenType": 16,
    "lenVar": 40
   },
   "kernels_config": {
    "python": {
     "delete_cmd_postfix": "",
     "delete_cmd_prefix": "del ",
     "library": "var_list.py",
     "varRefreshCmd": "print(var_dic_list())"
    },
    "r": {
     "delete_cmd_postfix": ") ",
     "delete_cmd_prefix": "rm(",
     "library": "var_list.r",
     "varRefreshCmd": "cat(var_dic_list()) "
    }
   },
   "types_to_exclude": [
    "module",
    "function",
    "builtin_function_or_method",
    "instance",
    "_Feature"
   ],
   "window_display": false
  }
 },
 "nbformat": 4,
 "nbformat_minor": 2
}
